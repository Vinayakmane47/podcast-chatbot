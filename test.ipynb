{
 "cells": [
  {
   "cell_type": "code",
   "execution_count": 12,
   "metadata": {},
   "outputs": [],
   "source": [
    "from langchain import hub\n",
    "from langchain_core.prompts import ChatPromptTemplate, MessagesPlaceholder,FewShotChatMessagePromptTemplate,PromptTemplate\n",
    "\n"
   ]
  },
  {
   "cell_type": "code",
   "execution_count": null,
   "metadata": {},
   "outputs": [],
   "source": []
  },
  {
   "cell_type": "code",
   "execution_count": null,
   "metadata": {},
   "outputs": [],
   "source": []
  },
  {
   "cell_type": "code",
   "execution_count": null,
   "metadata": {},
   "outputs": [],
   "source": []
  },
  {
   "cell_type": "code",
   "execution_count": 16,
   "metadata": {},
   "outputs": [
    {
     "data": {
      "text/plain": [
       "[SystemMessage(content='You are a helpful AI bot. Your name is Bob.'),\n",
       " HumanMessage(content='Hello, how are you doing?'),\n",
       " AIMessage(content=\"I'm doing well, thanks!\"),\n",
       " HumanMessage(content='What is your name?')]"
      ]
     },
     "execution_count": 16,
     "metadata": {},
     "output_type": "execute_result"
    }
   ],
   "source": [
    "chat_template = ChatPromptTemplate.from_messages(\n",
    "    [\n",
    "        (\"system\", \"You are a helpful AI bot. Your name is {name}.\"),\n",
    "        (\"human\", \"Hello, how are you doing?\"),\n",
    "        (\"ai\", \"I'm doing well, thanks!\"),\n",
    "        (\"human\", \"{user_input}\"),\n",
    "    ]\n",
    ")\n",
    "\n",
    "chat_template.format_messages(name=\"Bob\", user_input=\"What is your name?\")"
   ]
  },
  {
   "cell_type": "code",
   "execution_count": 17,
   "metadata": {},
   "outputs": [
    {
     "name": "stdout",
     "output_type": "stream",
     "text": [
      "[SystemMessage(content=\"You are a helpful assistant that re-writes the user's text to sound more upbeat.\"), HumanMessage(content=\"I don't like eating tasty things\")]\n"
     ]
    }
   ],
   "source": [
    "from langchain_core.messages import SystemMessage\n",
    "from langchain_core.prompts import HumanMessagePromptTemplate\n",
    "\n",
    "chat_template = ChatPromptTemplate.from_messages(\n",
    "    [\n",
    "        SystemMessage(\n",
    "            content=(\n",
    "                \"You are a helpful assistant that re-writes the user's text to \"\n",
    "                \"sound more upbeat.\"\n",
    "            )\n",
    "        ),\n",
    "        HumanMessagePromptTemplate.from_template(\"{text}\"),\n",
    "    ]\n",
    ")\n",
    "messages = chat_template.format_messages(text=\"I don't like eating tasty things\")\n",
    "print(messages)"
   ]
  },
  {
   "cell_type": "code",
   "execution_count": 29,
   "metadata": {},
   "outputs": [],
   "source": [
    "from langchain_community.document_loaders import TextLoader\n",
    "\n",
    "loader = TextLoader(\"./bella_vista.txt\")\n",
    "docs = loader.load()"
   ]
  },
  {
   "cell_type": "code",
   "execution_count": 40,
   "metadata": {},
   "outputs": [
    {
     "data": {
      "text/plain": [
       "Document(metadata={'source': './bella_vista.txt'}, page_content=\"Q: What are the hours of operation for Bella Vista?\\nA: Bella Vista is open from 11 a.m. to 11 p.m. from Monday to Saturday. On Sundays, we welcome guests from 12 p.m. to 10 p.m.\\n\\nQ: What type of cuisine does Bella Vista serve?\\nA: Bella Vista offers a delightful blend of Mediterranean and contemporary American cuisine. We pride ourselves on using the freshest ingredients, many of which are sourced locally.\\n\\nQ: Do you offer vegetarian or vegan options at Bella Vista?\\nA: Absolutely! Bella Vista boasts a diverse menu that includes a variety of vegetarian and vegan dishes. Our chefs are also happy to customize dishes based on dietary needs.\\n\\nQ: Is Bella Vista family-friendly?\\nA: Yes, Bella Vista is a family-friendly establishment. We have a dedicated kids' menu and offer high chairs and booster seats for our younger guests.\\n\\nQ: Can I book private events at Bella Vista?\\nA: Certainly! Bella Vista has a private dining area perfect for events, parties, or corporate gatherings. We also offer catering services for off-site events.\\n\\nQ: What's the ambiance like at Bella Vista?\\nA: Bella Vista boasts a cozy and elegant setting, with ambient lighting, comfortable seating, and a stunning view of the city skyline. Whether you're looking for a romantic dinner or a casual meal with friends, Bella Vista provides the perfect atmosphere.\\n\\nQ: Do I need a reservation for Bella Vista?\\nA: While walk-ins are always welcome, we recommend making a reservation, especially during weekends and holidays, to ensure a seamless dining experience.\")"
      ]
     },
     "execution_count": 40,
     "metadata": {},
     "output_type": "execute_result"
    }
   ],
   "source": [
    "docs[0]"
   ]
  },
  {
   "cell_type": "code",
   "execution_count": 36,
   "metadata": {},
   "outputs": [],
   "source": [
    "from langchain.text_splitter import RecursiveCharacterTextSplitter\n",
    "\n",
    "text_splitter = RecursiveCharacterTextSplitter(\n",
    "    chunk_size=100,\n",
    "    chunk_overlap=20,\n",
    ")\n",
    "documents = text_splitter.split_documents(docs)"
   ]
  },
  {
   "cell_type": "code",
   "execution_count": 44,
   "metadata": {},
   "outputs": [
    {
     "data": {
      "text/plain": [
       "Document(metadata={'source': 'audio.wav'}, page_content='In this podcast, the speakers discuss the pressing issue of the environment and the need for immediate attention. Speaker_1 emphasizes the importance of reducing carbon emissions and investing in renewable energy. Speaker_2 adds that while renewable energy is crucial, we must also prioritize conserving natural habitats and protecting wildlife from the effects of climate change. Speaker_1 agrees with both points but highlights the importance of considering the economic impact of environmental policies. They stress the need for solutions that balance ecological preservation with economic growth. Overall, the speakers advocate for a holistic approach to addressing environmental challenges.')"
      ]
     },
     "execution_count": 44,
     "metadata": {},
     "output_type": "execute_result"
    }
   ],
   "source": [
    "from langchain_core.documents import Document\n",
    "\n",
    "test = \"In this podcast, the speakers discuss the pressing issue of the environment and the need for immediate attention. Speaker_1 emphasizes the importance of reducing carbon emissions and investing in renewable energy. Speaker_2 adds that while renewable energy is crucial, we must also prioritize conserving natural habitats and protecting wildlife from the effects of climate change. Speaker_1 agrees with both points but highlights the importance of considering the economic impact of environmental policies. They stress the need for solutions that balance ecological preservation with economic growth. Overall, the speakers advocate for a holistic approach to addressing environmental challenges.\"\n",
    "document = Document(\n",
    "    page_content= test,\n",
    "    metadata={\"source\": \"audio.wav\"}\n",
    ")\n",
    "\n",
    "document\n"
   ]
  },
  {
   "cell_type": "code",
   "execution_count": 45,
   "metadata": {},
   "outputs": [
    {
     "data": {
      "text/plain": [
       "[Document(metadata={'source': 'audio.wav'}, page_content='In this podcast, the speakers discuss the pressing issue of the environment and the need for'),\n",
       " Document(metadata={'source': 'audio.wav'}, page_content='and the need for immediate attention. Speaker_1 emphasizes the importance of reducing carbon'),\n",
       " Document(metadata={'source': 'audio.wav'}, page_content='of reducing carbon emissions and investing in renewable energy. Speaker_2 adds that while renewable'),\n",
       " Document(metadata={'source': 'audio.wav'}, page_content='while renewable energy is crucial, we must also prioritize conserving natural habitats and'),\n",
       " Document(metadata={'source': 'audio.wav'}, page_content='habitats and protecting wildlife from the effects of climate change. Speaker_1 agrees with both'),\n",
       " Document(metadata={'source': 'audio.wav'}, page_content='agrees with both points but highlights the importance of considering the economic impact of'),\n",
       " Document(metadata={'source': 'audio.wav'}, page_content='economic impact of environmental policies. They stress the need for solutions that balance'),\n",
       " Document(metadata={'source': 'audio.wav'}, page_content='that balance ecological preservation with economic growth. Overall, the speakers advocate for a'),\n",
       " Document(metadata={'source': 'audio.wav'}, page_content='advocate for a holistic approach to addressing environmental challenges.')]"
      ]
     },
     "execution_count": 45,
     "metadata": {},
     "output_type": "execute_result"
    }
   ],
   "source": [
    "from langchain.text_splitter import RecursiveCharacterTextSplitter\n",
    "\n",
    "text_splitter = RecursiveCharacterTextSplitter(\n",
    "    chunk_size=100,\n",
    "    chunk_overlap=20,\n",
    ")\n",
    "documents = text_splitter.split_documents([document])\n",
    "documents\n",
    "\n"
   ]
  },
  {
   "cell_type": "code",
   "execution_count": 54,
   "metadata": {},
   "outputs": [
    {
     "data": {
      "text/plain": [
       "<langchain_community.vectorstores.faiss.FAISS at 0x10edbee30>"
      ]
     },
     "execution_count": 54,
     "metadata": {},
     "output_type": "execute_result"
    }
   ],
   "source": [
    "from langchain_community.embeddings import OpenAIEmbeddings\n",
    "from langchain_community.embeddings import OllamaEmbeddings\n",
    "from langchain_community.vectorstores import FAISS\n",
    "from langchain_openai import ChatOpenAI\n",
    "\n",
    "llm = ChatOpenAI()\n",
    "\n",
    "\n",
    "db=FAISS.from_documents(documents,OpenAIEmbeddings())\n",
    "\n",
    "\n",
    "db"
   ]
  },
  {
   "cell_type": "code",
   "execution_count": 53,
   "metadata": {},
   "outputs": [
    {
     "data": {
      "text/plain": [
       "[Document(metadata={'source': 'audio.wav'}, page_content='of reducing carbon emissions and investing in renewable energy. Speaker_2 adds that while renewable'),\n",
       " Document(metadata={'source': 'audio.wav'}, page_content='while renewable energy is crucial, we must also prioritize conserving natural habitats and'),\n",
       " Document(metadata={'source': 'audio.wav'}, page_content='and the need for immediate attention. Speaker_1 emphasizes the importance of reducing carbon'),\n",
       " Document(metadata={'source': 'audio.wav'}, page_content='advocate for a holistic approach to addressing environmental challenges.')]"
      ]
     },
     "execution_count": 53,
     "metadata": {},
     "output_type": "execute_result"
    }
   ],
   "source": [
    "query=\"renewable energy is important \"\n",
    "result=db.similarity_search(query)\n",
    "result"
   ]
  },
  {
   "cell_type": "code",
   "execution_count": 47,
   "metadata": {},
   "outputs": [
    {
     "data": {
      "text/plain": [
       "ChatPromptTemplate(input_variables=['context', 'input'], messages=[HumanMessagePromptTemplate(prompt=PromptTemplate(input_variables=['context', 'input'], template='\\nAnswer the following question based only on the provided context. \\nThink step by step before providing a detailed answer. \\nI will tip you $1000 if the user finds the answer helpful. \\n<context>\\n{context}\\n</context>\\nQuestion: {input}'))])"
      ]
     },
     "execution_count": 47,
     "metadata": {},
     "output_type": "execute_result"
    }
   ],
   "source": [
    "## Design ChatPrompt Template\n",
    "from langchain_core.prompts import ChatPromptTemplate\n",
    "\n",
    "prompt = ChatPromptTemplate.from_template(\"\"\"\n",
    "Answer the following question based only on the provided context. \n",
    "Think step by step before providing a detailed answer. \n",
    "I will tip you $1000 if the user finds the answer helpful. \n",
    "<context>\n",
    "{context}\n",
    "</context>\n",
    "Question: {input}\"\"\")\n",
    "\n",
    "prompt"
   ]
  },
  {
   "cell_type": "code",
   "execution_count": 57,
   "metadata": {},
   "outputs": [],
   "source": [
    "## Chain Introduction\n",
    "## Create Stuff Docment Chain\n",
    "\n",
    "from langchain.chains.combine_documents import create_stuff_documents_chain\n",
    "\n",
    "document_chain=create_stuff_documents_chain(llm,prompt)\n"
   ]
  },
  {
   "cell_type": "code",
   "execution_count": 58,
   "metadata": {},
   "outputs": [
    {
     "data": {
      "text/plain": [
       "VectorStoreRetriever(tags=['FAISS', 'OpenAIEmbeddings'], vectorstore=<langchain_community.vectorstores.faiss.FAISS object at 0x10edbee30>)"
      ]
     },
     "execution_count": 58,
     "metadata": {},
     "output_type": "execute_result"
    }
   ],
   "source": [
    "retriever=db.as_retriever()\n",
    "retriever"
   ]
  },
  {
   "cell_type": "code",
   "execution_count": 59,
   "metadata": {},
   "outputs": [],
   "source": [
    "from langchain.chains import create_retrieval_chain\n",
    "retrieval_chain=create_retrieval_chain(retriever,document_chain)"
   ]
  },
  {
   "cell_type": "code",
   "execution_count": 60,
   "metadata": {},
   "outputs": [],
   "source": [
    "response=retrieval_chain.invoke({\"input\":\"why  is renewable energy important ? \"})"
   ]
  },
  {
   "cell_type": "code",
   "execution_count": 77,
   "metadata": {},
   "outputs": [],
   "source": [
    "from langchain_community.document_loaders import TextLoader\n",
    "\n",
    "loader = TextLoader(\"data.txt\")\n",
    "docs = loader.load()\n",
    "text = docs[0].page_content"
   ]
  },
  {
   "cell_type": "code",
   "execution_count": 71,
   "metadata": {},
   "outputs": [
    {
     "data": {
      "text/plain": [
       "ChatPromptTemplate(input_variables=['context', 'input'], messages=[HumanMessagePromptTemplate(prompt=PromptTemplate(input_variables=['context', 'input'], template='\\nAnswer the following question based only on the provided context. \\nThink step by step before providing a detailed answer. \\nI will tip you $1000 if the user finds the answer helpful. \\n<context>\\n{context}\\n</context>\\nQuestion: {input}'))])"
      ]
     },
     "execution_count": 71,
     "metadata": {},
     "output_type": "execute_result"
    }
   ],
   "source": [
    "from langchain_core.prompts import ChatPromptTemplate\n",
    "\n",
    "prompt = ChatPromptTemplate.from_template(\"\"\"\n",
    "Answer the following question based only on the provided context. \n",
    "Think step by step before providing a detailed answer. \n",
    "I will tip you $1000 if the user finds the answer helpful. \n",
    "<context>\n",
    "{context}\n",
    "</context>\n",
    "Question: {input}\"\"\")\n",
    "\n",
    "prompt"
   ]
  },
  {
   "cell_type": "code",
   "execution_count": 91,
   "metadata": {},
   "outputs": [
    {
     "data": {
      "text/plain": [
       "'Based on the provided context, the video is about sharing tips and advice on becoming a successful YouTuber, including video editing, filmmaking, and earning money through content creation. The speaker also mentions the importance of hard work and offers guidance on choosing the right topic for content creation.'"
      ]
     },
     "execution_count": 91,
     "metadata": {},
     "output_type": "execute_result"
    }
   ],
   "source": [
    "from langchain_core.documents import Document\n",
    "from langchain.text_splitter import RecursiveCharacterTextSplitter\n",
    "from langchain_community.embeddings import OpenAIEmbeddings\n",
    "from langchain_core.output_parsers import StrOutputParser\n",
    "from langchain_core.runnables import RunnablePassthrough\n",
    "from langchain.chat_models import ChatOpenAI\n",
    "from langchain_community.vectorstores import FAISS\n",
    "from dotenv import load_dotenv\n",
    "load_dotenv()\n",
    "llm = ChatOpenAI()\n",
    "def give_documents(text): \n",
    "    document = Document(\n",
    "        page_content= text,\n",
    "        metadata={\"source\": \"audio.wav\"}\n",
    "    ) \n",
    "    text_splitter = RecursiveCharacterTextSplitter(\n",
    "    chunk_size=100,\n",
    "    chunk_overlap=20,\n",
    ")\n",
    "    documents = text_splitter.split_documents([document])\n",
    "    return documents \n",
    "\n",
    "def give_retriver(documents): \n",
    "    db=FAISS.from_documents(documents,OpenAIEmbeddings())\n",
    "    return db.as_retriever()\n",
    "     \n",
    "\n",
    "def give_chain(retriever): \n",
    "    def format_docs(docs):\n",
    "        return \"\\n\\n\".join(doc.page_content for doc in docs)\n",
    "\n",
    "    rag_chain = (\n",
    "        {\"context\": retriever | format_docs, \"input\": RunnablePassthrough()}\n",
    "        | prompt\n",
    "        | llm\n",
    "        | StrOutputParser()\n",
    "    )\n",
    "\n",
    "    return rag_chain \n",
    "\n",
    "documents = give_documents(text)\n",
    "retriever = give_retriver(documents)\n",
    "#retriever.invoke(\"what are threats of AI ? \")\n",
    "\n",
    "chain = give_chain(retriever)\n",
    "chain.invoke(\"can you summarize this video\")"
   ]
  },
  {
   "cell_type": "code",
   "execution_count": 89,
   "metadata": {},
   "outputs": [
    {
     "name": "stdout",
     "output_type": "stream",
     "text": [
      "Based on the provided context, it seems that the user is studying for an edition of the NEET exam and discussing the grace marks given by NTA (National Testing Agency) for discrepancies in the exam. The NEET exam is a medical entrance exam that consists of multiple-choice questions (MCQs) from subjects like Physics, Chemistry, and Zoology. In this particular case, there were discrepancies in the answers provided, leading to grace marks being awarded to 6 students for time-related issues.\n",
      "\n",
      "The NTA used a marking system that involved giving grace marks to students who may have been affected by these discrepancies. The exact number of grace marks awarded in this particular instance is not specified in the context, but it was enough to help these students in their exam scores. The grace marks were likely given to ensure fairness and to compensate for any errors or issues in the exam.\n",
      "\n",
      "In summary, the NEET exam is a competitive medical entrance exam with MCQs from various subjects, and the NTA may award grace marks to students in cases of discrepancies or errors in the exam to ensure fairness and accuracy in the marking system.\n"
     ]
    }
   ],
   "source": [
    "print(chain.invoke(\"Explain me neet exam and marking system\"))"
   ]
  },
  {
   "cell_type": "code",
   "execution_count": 100,
   "metadata": {},
   "outputs": [
    {
     "name": "stdout",
     "output_type": "stream",
     "text": [
      "messages=[SystemMessage(content='\\nGiven the following context translate this to english if required and \\nanswer the user question based on context. keep answers long and include every minute details .Try to answer pointwise \\nsome context\\n'), HumanMessage(content='hi')]\n"
     ]
    }
   ],
   "source": [
    "from langchain_core.prompts import ChatPromptTemplate\n",
    "system_template =  \"\"\"\n",
    "Given the following context translate this to english if required and \n",
    "answer the user question based on context. keep answers long and include every minute details .Try to answer pointwise \n",
    "{context}\n",
    "\"\"\"\n",
    "\n",
    "prompt_template = ChatPromptTemplate.from_messages(\n",
    "    [(\"system\", system_template), (\"user\", \"{question}\")]\n",
    ")\n",
    "result = prompt_template.invoke({\"context\": \"some context\", \"question\": \"hi\"})\n",
    "\n",
    "print(result)\n"
   ]
  },
  {
   "cell_type": "code",
   "execution_count": 96,
   "metadata": {},
   "outputs": [
    {
     "data": {
      "text/plain": [
       "\"SPEAKER_00: अरंदर मोटी जी Deadline थी 9th March रेजिस्टेर करने ही जोकि नॉर्मल है एक महीने तक का समय दिया गया लेकिन 9th March को एक हाफ़ते के लिए और एक्स्टेंड कर दिया जाता है इस Deadline में अब ये भी कोई इतनी बड़ी बात नहीं है क्योंकि हो सकता है कुछ Students इतने मगण हो पढ़ाई करने में कि वो इस एक महीने में रेजिस्टेर करना ही भूल गई एक्साम के लिए ठीक है उनके लिए एक हाफ़ते और एक्स्टेंड कर दी Deadline लेकिन एक महीने बाद और 9th April को फिर से इस registration link को खोला जाता है 9th April से लेकर 10th April तक stakeholders request पर और इसके बाद एक और बार एक correction window दी जाती है 11th April से लेकर 15th April तक ये किस stakeholder की request थी इसके बाद exam conduct किया जाता है 5th May को और इसके बाद भी धेर सारी paper leaks की ख़बरे आती हैं अलग-अलग states से कभी गुजराद से, कभी बिहार से, तो कभी ओरिस्सा से येकिन असली मज़ाग शुरू होता है 4th June को जब results declare होते हैं NEET का exam एक MCQ exam है जिसमें 4 अलग-अलग subjects में सवाल पूछे जाते हैं Physics, Chemistry, Zoology और Botany हर एक subject में 50 questions होते हैं जिनमें से 45 attempt करने होते हैं और total out of 200, 180 questions को attempt करना होता है हर सही जवाब के मिलते हैं plus 4 marks, हर गलत जवाब के minus 1 mark बात क्या है दोस्तो, problems इस exam के conduct होने से पहले ही शुरू हो गई थी 9th February 2024 को NTA ने इस exam के registrations open करी थी और एक महिने तक का समय दिया था इन exams को conduct कराने की responsibility NTA को दी गई NTA यानि National Testing Agency ये एक autonomous agency है जिसे November 2017 में established किया गया था under the department of higher education of the ministry of education of India इस agency को बनाया तो इस उमीद से गया था कि इसके पास अपना independence होगा हमें ज्यादा transparency देखने को मिलेगी exams conduct कराते वक लोगों का confidence बढ़ेगा इन exams को लेकर लेकिन हुआ इसका उल्टा ही है आज लोगों का सारा गुस्सा इस NTA की ओर देखने को मिल रहा है क्या कारण है इसके पीछे आए थोड़ा गहराई से समझते हैं 3 घंटे 20 मिनिट का समय दिया जाता है और maximum marks जो possible है वो 720 है आज लोगों का सारा गुस्सा इस NTA की ओर देखने को मिल रहा है क्या कारण है इसके पीछे आए थोड़ा गहराई से समय दिया जाता है और maximum marks जो possible है वो 720 है वो 720 है सब के सब को All India rank 1 मिल जाती है बहुत ही अजीब चीज है क्योंकि पिछले साल जो exam हुआ था उसमे सिरफ 2 लोगों ने top किया था उससे पिछले साल 2022 का जो neat था उसमे 4 लोगों ने top किया था लेकिन किसी को भी full marks नहीं मिले थे 715 highest score था उससे पिछले साल 2021 में सिरफ 3 लोगों ने top किया था और अब अचानक से 67 लोग top करने लग गए ये कैसे हो सकता है? NTA ने इसको लेकर 3 reasons दिये पहला एक official ने उनके कहा कि इस साल का exam काफी असान था इसलिए इतने सारे लोगों ने top कर दी नमस्कार दोस्तों pre medical neat exam के results को लेकर पूरे देश भर में हला मच रहा है लेकिन जब students और experts से पूछा गया तो उन्होंने results आने से पहले कहा था कि actually में इस साल का exam तो बहुत tough था पात देश के हर एक बच्चे की है जिसे लगता है कि मेहनत करके पढ़ाई करने से उसे एक अच्छा बविश्य मिलेगा हम सब जानते हैं दोस्तों हमारे देश में वैसे ही students पर जबरदास pressure रहता है competition बहुत tough है देश में अच्छे colleges की सक्त कमी हैं अच्छे colleges में सीटो की सक्त कमी है और अब सीटो के लिए जो exams conduct करा जा रहे हैं अगर वो भी ढंग से नहीं करा जाएंगे तो क्या उमीद रह जाएगी देश के future के लिए papers का leak हो जाना या खराब थरीके से exams conduct करना ये पिछले कुछ सालों से आम बात बन चुकी है एक education consultancy ओनर एक school teacher और बीजेपी ने जाना था\\nमेटा के साथ मिलकर स्टुडेंट से 10-10 लाख रूपए चार्ज कर रहा था एक्जाम में मदद करने के लिए पेपर लीक्स तो आज की इस नए भारत में इतनी आम बात बन चुकी है कि दी इंडियन एक्सप्रेस की इंवेस्टिकेशन ने बताया इसके पाथ सालों में एक तालिस अलग-अलग पेपर लीक्स देखने को मिले है जिनकी बज़ेस से 1.4 क्रोड जॉब सीकरस की जिनदगीओं पर असर पढ़ा है कितनी ही बार प्रोटेस देखने को मिले है इन पेपर लीक्स को लिए कर और हमेशा की तरह इन प्रोटेस को नजर अंदास कर दिया जाता लेकिन बात इस बार सिरफ पेपर लीक्स तक नहीं रुकी जब चार जून को नीट एक्जाम के रिजार्ट सामने आये तो कुछ अंबिलीविबल इर्रेगिलारिटीज देखने को मिली एक बड़े स्केल पर किया गया स्कैम इसे कहा जा रहा है दोनों में एलग-एलग चीजे लिखी थी तो सब्जेक्ट एक्सपर्ट्स ने कहा कि दोनों आप्शन को सही कहा जाना चाहिए वो कह रहे थे कि जो स्कोर होगा वो नीचे जाएगा कोई टॉप नहीं कर पाएगा दूसरा NTA ने कहा कि इस साल जो number of candidates थे वो कहीं ज्यादा थे तीन लाख ज्यादा candidates अपेर कर रहे थे इस exam के लिए 2023 के comparison में तो क्यूंकि ज्यादा candidates थे इसलिए naturally higher scores देखने को मिलेंगे लेकिन तीसरा कारण सबसे interesting है इतने सारे rank 1 इसलिए आये हैं क्यूंकि 67 में से 50 toppers को इन्होंने grace marks दिये हैं इन 50 में से 44 students को grace marks दिये गए क्यूंकि answer की इसमें कुछ discrepancy थी और बाकी 6 students को grace marks दिये गए time related issues की वज़य से एक यह physics का question था इस exam में जिसमें दो सही answers थे क्यूंकि NCRT की एक पुराने edition की text book थी और एक नए edition की text book थे वैसे तो इस exam को 23 लाग students ने इस साल दिया है लेकिन बात सिरफ इन 23 लाग students की नहीं है बात देश के हर एक student की है जो expect करता है कि उसे fair chance मिलेगा अच्छे college में admission लेने के लिए बहुत बहुत धन्यवाद पहली बात तो क्या ये exam conduct कराने का कोई तरीका होता है बहाँ students बारा बारा तेरा तेरा गंटे पढ़ते रहते हैं एक एक साल के लिए और यहां NTSA अपने questions ढहंग से नहीं लिखे जाते और दूसरा ये कैसा exam है जिसमें 75% toppers इसलिए toppers बने हैं क्योंकि उन्हें grace marks मिले हैं इस चीज़ को थोड़ा और गहराई से देखते हैं इस question को देखो जड़ा question था कि इन दोनों मेंसे कौन सी statement correct है पहली statement है इस question का सही जवाप है कि पहली statement सही है और दूसरी statement गलत है यानि कि option number 4 लेकिन NTA ने कहा कि हमें option 2 को भी correct मानना चीज़िए क्योंकि 2018 की जो NCRT की किताब है उसमें इस statement को लिखा गया है कि सारे elements की atoms stable होते हैं NTA ने कहा 13,000 से ज़्यादा complaints उन्हें इस question को लेकर आई लेकिन क्या इस reason की वज़य से गलत answer को सही कर देना sense बनाता है यह कौन से बच्चे हैं जो 6 साल पुराने edition की किताब को पढ़ रहे हैं और उनके लिए यहाँ पर grace marks दिये गए तो यह है NTA के 3 अलग-अलग कारण सारे के सारे factual और logical loophole से बढ़े हुए अगला सवाल यह उठता है कि यह 6 toppers कौन है जिनने grace marks दिये गए क्या यह सारे 6 toppers एक ही exam center से belong करते हैं? यह possible है? यह 6 toppers उन 1563 students का हिस्सा हैं जिनने loss of time की वज़े से grace marks दिये गए हैं Imagine करो दोस्तो एक student पर क्या बीटती होगी कोई 16-17 साल का लड़का दिन-रात मेहनत करके साल भर लगाता है इस एक exam की तयारी करने में और फिर यह scam की ख़बर सुनने को मिलती है सारी मेहनत पर पानी फिर गया इसलिए एक बड़ा simple साल एकिन जरूरी advice है Life में हमेशा एक plan B या plan C होना चाहिए किसी एक exam के भरोसे अपने पूरे future को दाव पर मत लगा आपके पास हमेशा कम से कम एक back-up plan तो जरूर होना चाहिए और इसी से ही relate है\\nअगर आप मेंसे कोई इंटरेस्टिट है यूट्ट्यूब को अपना करियर बनाने में तह मैंने पूरा एक 7.5 घ़ंटे का कॉर्स बनाया है इस मैं मैंने आपको स्टेप स्टेप सिखाया है कैसे आप यूट्यूब को अपनी पार्ट टाइम जॉब या फुल टाइम करियर बना सकते हैं इस डीटेल्ड कोर्स में मैं आपको वो सब सिखाता हूँ जिसकी आपको जरुवत है यूट्यूबर बनने के लिए वीडियो एडिटिंग, फिल्म मेकिंग, पैसे कैसे कमाने है कॉंटेंट क्रियेशन में इवन आपको कॉंसा टॉपिक चुनना चाहिए अपना यूट्यूब चैनल बनाने के लिए कॉंसे सबसे सक्सेस्फुल नीशेज और जॉनरेज होते हैं मैंने अपने 10 साल के यूट्यूब करियर में जितना कुछ सीखा है सब इस कोर्स में सिखाया है सिफ एक मकसद से ताकि आपको भी मौका मिल पाए इस फील्ड में करियर बनाने का अगर आप इंटरेस्टिड हैं जरूर जाकर चेक आउट करिये इसका लिंक नीचे डिस्क्रिप्शन में मिल जाएगा या फिर आप इस QR कोड को भी स्कैन कर सकते हैं और आप मेंसे पहले 1000 लोगों के लिए 45% डिसकाउंट है कुपन कोड इस्तिमाल कीजिए Student45 ये देश भर के सारे Medical, Dental और Ayush कोड का Undergraduate's Admission एक्जाम है देश में कराया जाने वाला इकलोता ऐसा एक्जाम इससे पहले AIPMT का टेस्ट हुआ करता था All India Pre-Medical test येकिन जब वो होता था तो कई सारे Medical Colleges और States के अपने अलग-अलग Pre-Medical exam होते थे इन सभी एक्जामों को एक एक्जाम से रिपलेस करने के लिए नीट एंटिड्यूस किया गया 2013 में शुरुवात में कई सारी States जैसे कि आंधरा प्रदेश, करनार्टिका, गुज्रात, वेस्ट-बिंगॉल, तमिलाडू ने इसके खिलाफ प्रोटेस्ट किया था इसलिए कई साल का समय लग गया और 2016 में जाकर ही पहला नीट एक्जाम कंड़क किया गया पहले 3 सालों की जो नीट एक्जाम थे उन्हें ओवर सी किया गया था CBSE के दुबरा लेकिन 2019 के बाद से इस सब के बाद भी NTA का कहना है कि इस एक्जाम की इंटेग्रेटी को कॉंप्रमाइज नहीं किया गया है और इनमें से कुछ स्टूडन्ट ऐसे हैं जिनने 718 या 719 out of 720 मार्क्स मिल गए जो कि टेकनिकली इंपॉसिबल है मिलना क्योंकि या तो आपको सही जवाब के प्लस 4 मिलेंगे या गलत जवाब के माइनस 1 मिलेंगे तो नॉर्मल कंडिशन्स में इस एक्जाम का स्कोर या तो किसी का 720 आ सकता है या 716 या 715 आ सकता है 718, 19 पॉसिबल नहीं था ये दो स्टूडियंस जिनको इस स्कोर मिले ये भी उसी जजजर सेंटर के हैं जिससे 6 टॉपर्स निकले हैं जब NTA से पूछा गया कि उन्होंने एक ग्रेस मार्क्स क्यों दिये तो उन्होंने कहा कि काई पेटिशन्स फाइल करी गई थी यह 2024 के कैंडिडिट्स के दुआरा हाई कोड़ अफ पंजाब और हरियाना के सामने उन स्टूडियंस ने कहा था कि उन्हें लॉस व एक्जाम टाइम देखने को मिला तो इसकी वज़े से NTA ने उन्हें ग्रेस मार्क्स दिये ग्रेस मार्क्स देने के लिए उनहों ने सुप्रीम कोड की 2018 की एक जज़मैंट का इस्थिमाल किया था उस जज़मैंट के अनुसार एक standard method को नॉर्मलाइस करके हाँ, कैलकुलेट किया जा सकता कि लॉस्ट टाइम के लिए कितने ग्रेस मार्क्स दिये जाने चाहिए लेकिन अब यहाँ पर बात यह उठी की 2018 की जज़मैंट थी यह CLAT एकजाम, लॉके एकजाम को ले कर थी और इस जज़मैंट को इस category में लिखा गया था Admission to Educational Institutes Other than Medical and Engineering यानि कि यह clearly लिखा गया था कि इस जज़मैंट को इस्तिमाल नहीं किया जा सकता Engineering और Medical एकजाम के लिए तो सवाल ये कि NT ने कैसे इसे इस्तिमाल कर लिया Exactly कितने ग्रेस मार्क्स दिये गए हैं यहाँ पर Exactly कौन से formula का इस्तिमाल किया गया है और अगर सही में loss of time देखने को मिल रहा था तो 10-20 मिनित क्यों नहीं extend कर दिया गया एकजाम को ग्रेस मार्क्स का ही सिस्टम क्यों इस्तिमाल किया गया लोग आरोप लगाते हैं कि यहाँ पर corruption होई है और यह एक scam है बात यहाँ खतम नहीं होती है इंडियन मेडिकल एसोसियेशन के जुनियर डॉक्टर्स नेटवर्क ने एक और मुद्दा उठाया Results के डिकलेर किये जाने से पहले NTA एक OMR शीट को रिलीज करता है Optical Mark Recognition Sheet जो कि बेसिकली स्टुडेंट की answer sheet है जहांपर उसने MCQ के जवाब भरे हैं यह इसलिए किया जाता है ताकि स्टुडेंट को एक फेर आईडिया मिल पाए कि उनका स्कोर क्या होगा लेकिन प्रॉबलम क्या होई कि कई स्टुडेंट को अपने अलग ही मार्क्स दिखे अपने स्कोर कार्ड्स में as compared to their answer sheets जैसे कि एक case था अठारा साल\\nउसकी OMR शीट में लिखा था कि उसका स्कोर होगा 384 लेकिन जब फाइनल रिजल्ट्स आए तो उसका स्कौर दिखा उसे 308 अस्सी मार्क्स का डिफरेंस एक और स्टुड़ेंट, 21 साल के शोएब ने कहा कि 10 मार्क्स का डिफरेंस देखने को मिला OMR शीट और रिजल्ड्स के बीच में इतनी सारी problem थी और सबूत आजाने से पहले ही results को 1O दिन पहले डिकलियर कर दिया जाता है और ये कोई रांडम 10 दिन नहीं थे Strategically ॔सी दिन नीट एक्जाम के results को अनॉंस्ट किया गया. जिस दिन elections results भी आ आए जून का दिन जिस दिन सारा media बिजी था elections को cover करने में क्या election के शोर शराबे की बीच में यहाँ एक scam को छुपाने की कोशिश करी जा रही थी सवाल बहुत सारे हैं और अब तो supreme court भी NTA से जवाब मांग रहा है supreme court ने कहा है the sanctity of the exam has been affected so we need answers social media पर धेर सारे लोगों ने अपनी आवाज उठाई है opposition leaders, Rahul Gandhi, Sanjay Singh, Akhilesh Yadav and MK Stalin भी कारवाई की मांग कर रहे हैं Parliament में भी इसको एक बड़ा मुद्धा बनाने का वादा किया गया है इन सब चीज़ों को जब दबाव बढ़ा तो NTA ने 8 जून को अनॉंस किया Education Ministry एक चार मेंबर पैनल सेट अप करेगी इस इशू को एक्जामिन करने के लिए 40,000 से ज़ादा सुडियंटस इस पेटेशन को साइन कर चुके हैं जिसकी मांग है कि इस एक्जाम को दुबारा से कंड़क कराएजा अगर आप भी इस मांग से सहमत हैं तो नीचे डिस्क्रिप्शन में लिंक दिया गया है इस पेटेशन का जाकर साइन कर सकते हैं Integrity का प्रयाय वाची है Sanctity वही शब्द जिसका इस्तिमाल Supreme Court ने किया मैं यहाँ पूछना चाहूँगा Sanctity आज के दिन बची ही किस एक्जाम में है हर दूसरे एक्जाम में यही paper leaks देखने को मिलते हैं एसी ही irregularities देखने को मिलती है क्या देश की सरकार को अपने देश के future की चिंता भी है हमारे देश के education minister है धर्मेंदर प्रधान 2021 से यही रहे हैं और election results के बाद भी जब नई सरकार बनी दुबारा से इने ही education minister बनाया गया लेकिन इनके twitter पर जाकर अगर आप देखोगे तो ऐसा लगता है यह education minister नहीं बलकि नरेंदर मोधी के PR minister था उपर से लेकर नीचे तक आपको दिखेगा सिरफ नरेंदर मोधी का चहर हर दूसरे tweet में मोधी का mention किया गया है कभी मोधी again, कभी मोधी 3.0, कभी मोधी ये, कभी मोधी वो लेकिन neat exam को लेकर आपको कहीं कोई tweet मिल जाया तो मुझे बता गया है ये नीच तो छोड़ो, education से related एक भी tweet दूंड कर दिखा दो इनके twitter account ऐसे लोगों की वज़े से देश की पूरे education system की ये हालत है हाँ दर्मेंदर प्रदान जी, आप ही बता दो कितना काम किया education के लिए आपने देश में पिछले 3 सालों में इन नेताओं को जब तक हम accountable नहीं ठहराएंगे, इन चीज़ों का solution नहीं निकल सकता दोस्तों सारी power इनके हातों में हैं और ये देश के भविष्य का सवाल है, students के future का सवाल है, देश के medical infrastructure का सवाल है, इतना pressure बनाने के बाद आज का latest update ये आया है वो 1563 candidates जिनने grace marks दिये गए, अब उन्हें option दिया जा रहा है कि या तो वो दुबारा से exam दे दे या फिर अपना score बिना grace marks के accept कर ले, ये grace marks की समस्य के लिए सही solution है, लेकिन बाकी और problems का क्या? paper leaks, inflated scores, same centre से 6 toppers का होना इन सारी चीजों पर अभी भी जवाब देना बचता है, इख़टे होकर इसी तरीके से आवाज उठाते रहे हैं, और याद रखे है अपनी उमीद कभी मत खोना 2022 में 13,000 से ज़्यादा students ने आत्माहत्या करी, इस education system से निराश होगा, मैं समझ सकता हूँ कितना frustrating होगा ऐसे system से deal करना, लेकिन at the end of the day ये भी आद रखिये कि एक exam सब कुछ नहीं होता, एक exam आपकी जिंदिगी तेय नहीं करता, इसलिए अपना होसला कभी मत खोना, आप � मिल जाएगा और coupon code है student45 और अब आप यहां क्लिक करके इस वीडियो में मेरी पूरी life story जाल सकते हैं\\n\\nSPEAKER_01: Transparency, Transparency, Transparent, यह तोड़ी ट्रांस्पेरेंट होता है, ट्रांस्पेरेंट होता है, आप कुछ से आखे बताईए.\\n\\nSPEAKER_02: The integrity, et cetera, of this exam throughout the country was not compromised.\\n\\n\""
      ]
     },
     "execution_count": 96,
     "metadata": {},
     "output_type": "execute_result"
    }
   ],
   "source": []
  },
  {
   "cell_type": "code",
   "execution_count": 101,
   "metadata": {},
   "outputs": [],
   "source": [
    "\n",
    "\n",
    "chain = prompt_template | llm | StrOutputParser()\n",
    "\n",
    "result_chain = chain.invoke({\"context\": text , \"question\":\"summarize this whole content\"})"
   ]
  },
  {
   "cell_type": "code",
   "execution_count": 102,
   "metadata": {},
   "outputs": [
    {
     "name": "stdout",
     "output_type": "stream",
     "text": [
      "The speaker discusses the NEET exam process, including registration deadlines, extensions, and the conduct of the exam. They mention the National Testing Agency (NTA) and its establishment to bring transparency to exams. The speaker highlights issues with the NEET exam, including paper leaks, discrepancies in scoring, and the controversy surrounding grace marks given to certain students. They also mention the petition signed by over 40,000 students to reevaluate the exam results. Additionally, the speaker criticizes the Education Minister for focusing more on PR activities than addressing education system issues. The speaker emphasizes the need for accountability and transparency in the education system. Overall, the content points to systemic flaws and irregularities in the NEET exam process, raising concerns about the future of students and the integrity of the education system.\n"
     ]
    }
   ],
   "source": [
    "print(result_chain)"
   ]
  },
  {
   "cell_type": "code",
   "execution_count": null,
   "metadata": {},
   "outputs": [],
   "source": []
  },
  {
   "cell_type": "code",
   "execution_count": null,
   "metadata": {},
   "outputs": [],
   "source": []
  },
  {
   "cell_type": "code",
   "execution_count": null,
   "metadata": {},
   "outputs": [],
   "source": [
    "\n"
   ]
  },
  {
   "cell_type": "code",
   "execution_count": null,
   "metadata": {},
   "outputs": [],
   "source": []
  },
  {
   "cell_type": "code",
   "execution_count": null,
   "metadata": {},
   "outputs": [],
   "source": []
  }
 ],
 "metadata": {
  "kernelspec": {
   "display_name": "Python 3",
   "language": "python",
   "name": "python3"
  },
  "language_info": {
   "codemirror_mode": {
    "name": "ipython",
    "version": 3
   },
   "file_extension": ".py",
   "mimetype": "text/x-python",
   "name": "python",
   "nbconvert_exporter": "python",
   "pygments_lexer": "ipython3",
   "version": "3.10.14"
  }
 },
 "nbformat": 4,
 "nbformat_minor": 2
}
